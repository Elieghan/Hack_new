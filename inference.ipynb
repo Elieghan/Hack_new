{
 "cells": [
  {
   "cell_type": "code",
   "execution_count": 2,
   "id": "45225ac2",
   "metadata": {},
   "outputs": [
    {
     "name": "stdout",
     "output_type": "stream",
     "text": [
      "Collecting numpy==1.19.5\n",
      "  Using cached numpy-1.19.5-cp38-cp38-win_amd64.whl (13.3 MB)\n",
      "Installing collected packages: numpyNote: you may need to restart the kernel to use updated packages.\n"
     ]
    },
    {
     "name": "stderr",
     "output_type": "stream",
     "text": [
      "WARNING: Error parsing requirements for urllib3: [Errno 2] No such file or directory: 'c:\\\\users\\\\amhan\\\\anaconda3\\\\lib\\\\site-packages\\\\urllib3-1.26.4.dist-info\\\\METADATA'\n",
      "ERROR: Could not install packages due to an OSError: [WinError 5] Accès refusé: 'C:\\\\Users\\\\amhan\\\\anaconda3\\\\Lib\\\\site-packages\\\\numpy\\\\~libs\\\\libopenblas.JPIJNSWNNAN3CE6LLI5FWSPHUT2VXMTH.gfortran-win_amd64.dll'\n",
      "Consider using the `--user` option or check the permissions.\n",
      "\n"
     ]
    },
    {
     "name": "stdout",
     "output_type": "stream",
     "text": [
      "\n",
      "  Attempting uninstall: numpy\n",
      "    Found existing installation: numpy 1.20.1\n",
      "    Uninstalling numpy-1.20.1:\n",
      "      Successfully uninstalled numpy-1.20.1\n"
     ]
    }
   ],
   "source": [
    "# pip install numpy==1.19.5"
   ]
  },
  {
   "cell_type": "code",
   "execution_count": 6,
   "id": "5679dd2b",
   "metadata": {},
   "outputs": [
    {
     "name": "stderr",
     "output_type": "stream",
     "text": [
      "WARNING: Could not generate requirement for distribution -umpy 1.18.5 (c:\\users\\amhan\\anaconda3\\lib\\site-packages): Parse error at \"'-umpy==1'\": Expected W:(abcd...)\n"
     ]
    }
   ],
   "source": [
    "! pip freeze > requirements.txt\n"
   ]
  },
  {
   "cell_type": "code",
   "execution_count": 10,
   "id": "8e36f8fe",
   "metadata": {},
   "outputs": [
    {
     "name": "stdout",
     "output_type": "stream",
     "text": [
      "None\n"
     ]
    },
    {
     "ename": "TypeError",
     "evalue": "int() argument must be a string, a bytes-like object or a number, not 'NoneType'",
     "output_type": "error",
     "traceback": [
      "\u001b[1;31m---------------------------------------------------------------------------\u001b[0m",
      "\u001b[1;31mTypeError\u001b[0m                                 Traceback (most recent call last)",
      "\u001b[1;32m<ipython-input-10-80275b7de6fd>\u001b[0m in \u001b[0;36m<module>\u001b[1;34m\u001b[0m\n\u001b[0;32m     66\u001b[0m \u001b[1;33m\u001b[0m\u001b[0m\n\u001b[0;32m     67\u001b[0m \u001b[1;32mif\u001b[0m \u001b[0m__name__\u001b[0m \u001b[1;33m==\u001b[0m \u001b[1;34m'__main__'\u001b[0m\u001b[1;33m:\u001b[0m\u001b[1;33m\u001b[0m\u001b[1;33m\u001b[0m\u001b[0m\n\u001b[1;32m---> 68\u001b[1;33m     \u001b[0mmain\u001b[0m\u001b[1;33m(\u001b[0m\u001b[1;33m)\u001b[0m\u001b[1;33m\u001b[0m\u001b[1;33m\u001b[0m\u001b[0m\n\u001b[0m",
      "\u001b[1;32m<ipython-input-10-80275b7de6fd>\u001b[0m in \u001b[0;36mmain\u001b[1;34m()\u001b[0m\n\u001b[0;32m     62\u001b[0m     \u001b[0mport\u001b[0m \u001b[1;33m=\u001b[0m \u001b[0mos\u001b[0m\u001b[1;33m.\u001b[0m\u001b[0menviron\u001b[0m\u001b[1;33m.\u001b[0m\u001b[0mget\u001b[0m\u001b[1;33m(\u001b[0m\u001b[1;34m'PORT'\u001b[0m\u001b[1;33m)\u001b[0m\u001b[1;33m\u001b[0m\u001b[1;33m\u001b[0m\u001b[0m\n\u001b[0;32m     63\u001b[0m     \u001b[0mprint\u001b[0m\u001b[1;33m(\u001b[0m\u001b[0mport\u001b[0m\u001b[1;33m)\u001b[0m\u001b[1;33m\u001b[0m\u001b[1;33m\u001b[0m\u001b[0m\n\u001b[1;32m---> 64\u001b[1;33m     \u001b[0mapp\u001b[0m\u001b[1;33m.\u001b[0m\u001b[0mrun\u001b[0m\u001b[1;33m(\u001b[0m\u001b[0mhost\u001b[0m\u001b[1;33m=\u001b[0m\u001b[1;34m'0.0.0.0'\u001b[0m\u001b[1;33m,\u001b[0m\u001b[0mport\u001b[0m\u001b[1;33m=\u001b[0m\u001b[0mint\u001b[0m\u001b[1;33m(\u001b[0m\u001b[0mport\u001b[0m\u001b[1;33m)\u001b[0m\u001b[1;33m)\u001b[0m\u001b[1;33m\u001b[0m\u001b[1;33m\u001b[0m\u001b[0m\n\u001b[0m\u001b[0;32m     65\u001b[0m \u001b[1;33m\u001b[0m\u001b[0m\n\u001b[0;32m     66\u001b[0m \u001b[1;33m\u001b[0m\u001b[0m\n",
      "\u001b[1;31mTypeError\u001b[0m: int() argument must be a string, a bytes-like object or a number, not 'NoneType'"
     ]
    }
   ],
   "source": [
    "from tensorflow.keras.models import load_model\n",
    "import pandas as pd\n",
    "import numpy as np\n",
    "from flask import Flask\n",
    "from flask import request\n",
    "import pickle\n",
    "import os\n",
    "import tensorflow as tf\n",
    "from tensorflow.keras.models import load_model\n",
    "\n",
    "Nl = 30\n",
    "\n",
    "app = Flask(__name__)\n",
    "\n",
    "@app.route('/poemlt')\n",
    "def gen_poemlt():\n",
    "    k1 = str(request.args.get('singer'))\n",
    "    #k2 = str(request.args.get('first_words'))\n",
    "    #feat = np.array([k1,k2]).reshape(1, -1)\n",
    "    try:\n",
    "        filename = 'models/' + k1\n",
    "        model = load_model(filename)\n",
    "    except:\n",
    "        return \"Sorry, this singer is not available yet.\"\n",
    "\n",
    "    list_lyrics = []\n",
    "    for _ in range(Nl):\n",
    "        list_lyrics.append(generate_text(0.4,model))\n",
    "    list_lyrics\n",
    "    \n",
    "    return list_lyrics\n",
    "\n",
    "    \n",
    "def generate_text(temperature,model):\n",
    "    char_pred = '^'\n",
    "    sequence = np.zeros(99)\n",
    "    text = [char_pred]\n",
    "    sequence[0] = sample_tokenizer.word_index[char_pred]\n",
    "    lenght = len(text)\n",
    "    while char_pred != '$' and lenght < 99:\n",
    "        y_pred_pad = model.predict(sequence.reshape(1,-1))\n",
    "        y_pred = y_pred_pad[0][lenght-1][1:]/y_pred_pad[0][lenght-1][1:].sum()\n",
    "        y_pred = y_pred**(1/temperature)\n",
    "        y_pred = y_pred/y_pred.sum()\n",
    "        car = np.random.choice(in_dim - 1, p=y_pred.ravel()) + 1\n",
    "        if lenght <99: sequence[lenght] = car\n",
    "        char_pred = sample_tokenizer.index_word[car]\n",
    "        text.append(char_pred)\n",
    "        lenght = len(text)\n",
    "    del text[-1],text[0]\n",
    "    return ''.join(text)\n",
    "    \n",
    "    \n",
    "    \n",
    "    \n",
    "\n",
    "def main():\n",
    "    \"\"\"\n",
    "    Run the test function and predict_churn\n",
    "    Author:  Elie Ghanassia\n",
    "    \"\"\"\n",
    "    port = os.environ.get('PORT')\n",
    "    print(port)\n",
    "    app.run(host='0.0.0.0',port=int(port))\n",
    "\n",
    "\n",
    "if __name__ == '__main__':\n",
    "    main()\n"
   ]
  },
  {
   "cell_type": "code",
   "execution_count": 8,
   "id": "c577965c",
   "metadata": {},
   "outputs": [
    {
     "name": "stderr",
     "output_type": "stream",
     "text": [
      "Unknown option: -e\n",
      "usage: python [option] ... [-c cmd | -m mod | file | -] [arg] ...\n",
      "Try `python -h' for more information.\n"
     ]
    }
   ],
   "source": [
    "! python -version"
   ]
  },
  {
   "cell_type": "code",
   "execution_count": 9,
   "id": "f43fcf05",
   "metadata": {},
   "outputs": [
    {
     "name": "stdout",
     "output_type": "stream",
     "text": [
      "3.8.3\n"
     ]
    }
   ],
   "source": [
    "from platform import python_version\n",
    "\n",
    "print(python_version())"
   ]
  },
  {
   "cell_type": "code",
   "execution_count": null,
   "id": "56886770",
   "metadata": {},
   "outputs": [],
   "source": []
  }
 ],
 "metadata": {
  "kernelspec": {
   "display_name": "Python 3",
   "language": "python",
   "name": "python3"
  },
  "language_info": {
   "codemirror_mode": {
    "name": "ipython",
    "version": 3
   },
   "file_extension": ".py",
   "mimetype": "text/x-python",
   "name": "python",
   "nbconvert_exporter": "python",
   "pygments_lexer": "ipython3",
   "version": "3.8.3"
  }
 },
 "nbformat": 4,
 "nbformat_minor": 5
}
